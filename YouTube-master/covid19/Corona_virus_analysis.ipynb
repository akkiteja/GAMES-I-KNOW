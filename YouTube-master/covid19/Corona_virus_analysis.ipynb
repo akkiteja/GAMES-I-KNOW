{
 "cells": [
  {
   "cell_type": "markdown",
   "metadata": {},
   "source": [
    "## Starting with inital Wuhan data"
   ]
  },
  {
   "cell_type": "code",
   "execution_count": 1,
   "metadata": {},
   "outputs": [],
   "source": [
    "import numpy as np\n",
    "from statsmodels.api import OLS\n",
    "from statsmodels.tools.tools import add_constant\n",
    "from matplotlib import pyplot as plt"
   ]
  },
  {
   "cell_type": "code",
   "execution_count": 2,
   "metadata": {},
   "outputs": [],
   "source": [
    "confirmed = np.array([45, 62, 121, 198, 291, 440, 571, 830, 1287, 1975,\n",
    "                      2744, 4515, 5974, 7711, 9692, 11791, 14380, 17205,\n",
    "                      20438, 24324, 28018, 31161, 34546, 37198,])"
   ]
  },
  {
   "cell_type": "markdown",
   "metadata": {},
   "source": [
    "## Exponential function with ordinary least squares."
   ]
  },
  {
   "cell_type": "code",
   "execution_count": 3,
   "metadata": {},
   "outputs": [],
   "source": [
    "x = np.arange(len(confirmed))\n",
    "x = add_constant(x)"
   ]
  },
  {
   "cell_type": "code",
   "execution_count": 4,
   "metadata": {},
   "outputs": [],
   "source": [
    "model = OLS(np.log(confirmed[:14]), x[:14]) # First two weeks\n",
    "# model = OLS(np.log(confirmed), x) # Full data"
   ]
  },
  {
   "cell_type": "code",
   "execution_count": 5,
   "metadata": {},
   "outputs": [],
   "source": [
    "result = model.fit()"
   ]
  },
  {
   "cell_type": "code",
   "execution_count": 6,
   "metadata": {
    "scrolled": true
   },
   "outputs": [
    {
     "name": "stderr",
     "output_type": "stream",
     "text": [
      "/Users/gregorius/miniconda3/lib/python3.7/site-packages/scipy/stats/stats.py:1535: UserWarning: kurtosistest only valid for n>=20 ... continuing anyway, n=14\n",
      "  \"anyway, n=%i\" % int(n))\n"
     ]
    },
    {
     "data": {
      "text/html": [
       "<table class=\"simpletable\">\n",
       "<caption>OLS Regression Results</caption>\n",
       "<tr>\n",
       "  <th>Dep. Variable:</th>            <td>y</td>        <th>  R-squared:         </th> <td>   0.995</td>\n",
       "</tr>\n",
       "<tr>\n",
       "  <th>Model:</th>                   <td>OLS</td>       <th>  Adj. R-squared:    </th> <td>   0.995</td>\n",
       "</tr>\n",
       "<tr>\n",
       "  <th>Method:</th>             <td>Least Squares</td>  <th>  F-statistic:       </th> <td>   2488.</td>\n",
       "</tr>\n",
       "<tr>\n",
       "  <th>Date:</th>             <td>Mon, 23 Mar 2020</td> <th>  Prob (F-statistic):</th> <td>2.77e-15</td>\n",
       "</tr>\n",
       "<tr>\n",
       "  <th>Time:</th>                 <td>19:35:27</td>     <th>  Log-Likelihood:    </th> <td>  10.843</td>\n",
       "</tr>\n",
       "<tr>\n",
       "  <th>No. Observations:</th>      <td>    14</td>      <th>  AIC:               </th> <td>  -17.69</td>\n",
       "</tr>\n",
       "<tr>\n",
       "  <th>Df Residuals:</th>          <td>    12</td>      <th>  BIC:               </th> <td>  -16.41</td>\n",
       "</tr>\n",
       "<tr>\n",
       "  <th>Df Model:</th>              <td>     1</td>      <th>                     </th>     <td> </td>   \n",
       "</tr>\n",
       "<tr>\n",
       "  <th>Covariance Type:</th>      <td>nonrobust</td>    <th>                     </th>     <td> </td>   \n",
       "</tr>\n",
       "</table>\n",
       "<table class=\"simpletable\">\n",
       "<tr>\n",
       "    <td></td>       <th>coef</th>     <th>std err</th>      <th>t</th>      <th>P>|t|</th>  <th>[0.025</th>    <th>0.975]</th>  \n",
       "</tr>\n",
       "<tr>\n",
       "  <th>const</th> <td>    3.9515</td> <td>    0.061</td> <td>   64.683</td> <td> 0.000</td> <td>    3.818</td> <td>    4.085</td>\n",
       "</tr>\n",
       "<tr>\n",
       "  <th>x1</th>    <td>    0.3984</td> <td>    0.008</td> <td>   49.878</td> <td> 0.000</td> <td>    0.381</td> <td>    0.416</td>\n",
       "</tr>\n",
       "</table>\n",
       "<table class=\"simpletable\">\n",
       "<tr>\n",
       "  <th>Omnibus:</th>       <td> 1.291</td> <th>  Durbin-Watson:     </th> <td>   0.917</td>\n",
       "</tr>\n",
       "<tr>\n",
       "  <th>Prob(Omnibus):</th> <td> 0.524</td> <th>  Jarque-Bera (JB):  </th> <td>   1.028</td>\n",
       "</tr>\n",
       "<tr>\n",
       "  <th>Skew:</th>          <td>-0.580</td> <th>  Prob(JB):          </th> <td>   0.598</td>\n",
       "</tr>\n",
       "<tr>\n",
       "  <th>Kurtosis:</th>      <td> 2.356</td> <th>  Cond. No.          </th> <td>    14.7</td>\n",
       "</tr>\n",
       "</table><br/><br/>Warnings:<br/>[1] Standard Errors assume that the covariance matrix of the errors is correctly specified."
      ],
      "text/plain": [
       "<class 'statsmodels.iolib.summary.Summary'>\n",
       "\"\"\"\n",
       "                            OLS Regression Results                            \n",
       "==============================================================================\n",
       "Dep. Variable:                      y   R-squared:                       0.995\n",
       "Model:                            OLS   Adj. R-squared:                  0.995\n",
       "Method:                 Least Squares   F-statistic:                     2488.\n",
       "Date:                Mon, 23 Mar 2020   Prob (F-statistic):           2.77e-15\n",
       "Time:                        19:35:27   Log-Likelihood:                 10.843\n",
       "No. Observations:                  14   AIC:                            -17.69\n",
       "Df Residuals:                      12   BIC:                            -16.41\n",
       "Df Model:                           1                                         \n",
       "Covariance Type:            nonrobust                                         \n",
       "==============================================================================\n",
       "                 coef    std err          t      P>|t|      [0.025      0.975]\n",
       "------------------------------------------------------------------------------\n",
       "const          3.9515      0.061     64.683      0.000       3.818       4.085\n",
       "x1             0.3984      0.008     49.878      0.000       0.381       0.416\n",
       "==============================================================================\n",
       "Omnibus:                        1.291   Durbin-Watson:                   0.917\n",
       "Prob(Omnibus):                  0.524   Jarque-Bera (JB):                1.028\n",
       "Skew:                          -0.580   Prob(JB):                        0.598\n",
       "Kurtosis:                       2.356   Cond. No.                         14.7\n",
       "==============================================================================\n",
       "\n",
       "Warnings:\n",
       "[1] Standard Errors assume that the covariance matrix of the errors is correctly specified.\n",
       "\"\"\""
      ]
     },
     "execution_count": 6,
     "metadata": {},
     "output_type": "execute_result"
    }
   ],
   "source": [
    "result.summary()"
   ]
  },
  {
   "cell_type": "code",
   "execution_count": 7,
   "metadata": {},
   "outputs": [
    {
     "data": {
      "image/png": "[encoded data removed]",
      "text/plain": [
       "<Figure size 432x288 with 1 Axes>"
      ]
     },
     "metadata": {
      "needs_background": "light"
     },
     "output_type": "display_data"
    }
   ],
   "source": [
    "plt.plot(\n",
    "    np.exp(result.predict(x[:14])),\n",
    "    label=\"Fitted exp. function\"      \n",
    ")\n",
    "plt.plot(confirmed[:14], \".\", label=\"Reported cases, CN\")\n",
    "plt.legend()\n",
    "plt.show()"
   ]
  },
  {
   "cell_type": "code",
   "execution_count": 8,
   "metadata": {},
   "outputs": [
    {
     "name": "stdout",
     "output_type": "stream",
     "text": [
      "Number of days until whole world is infected: 35\n"
     ]
    }
   ],
   "source": [
    "world_population = 7763252653\n",
    "days = 0\n",
    "infected = confirmed[14]\n",
    "while infected < world_population:\n",
    "    days += 1\n",
    "    infected = np.exp(result.predict([1, 13 + days]))[0]\n",
    "print(f\"Number of days until whole world is infected: {days}\")"
   ]
  },
  {
   "cell_type": "code",
   "execution_count": 9,
   "metadata": {
    "scrolled": true
   },
   "outputs": [
    {
     "data": {
      "image/png": "[encoded data removed]",
      "text/plain": [
       "<Figure size 432x288 with 1 Axes>"
      ]
     },
     "metadata": {
      "needs_background": "light"
     },
     "output_type": "display_data"
    }
   ],
   "source": [
    "plt.plot(np.exp(result.predict(x[:16])))\n",
    "plt.plot(confirmed[:16], \".\")\n",
    "plt.show()"
   ]
  },
  {
   "cell_type": "markdown",
   "metadata": {},
   "source": [
    "## Logistic function fit"
   ]
  },
  {
   "cell_type": "markdown",
   "metadata": {},
   "source": [
    "\\begin{equation}\n",
    "    f(x; a, b, c, d) = \\frac{a}{1 + \\exp({-c (x-d)})} + b\n",
    "\\end{equation}"
   ]
  },
  {
   "cell_type": "code",
   "execution_count": 10,
   "metadata": {},
   "outputs": [],
   "source": [
    "from scipy.optimize import curve_fit\n",
    "from sklearn.metrics import r2_score\n",
    "logistic_function = lambda x, a, b, c, d: \\\n",
    "    a / (1 + np.exp(-c * (x - d))) + b"
   ]
  },
  {
   "cell_type": "code",
   "execution_count": 11,
   "metadata": {},
   "outputs": [],
   "source": [
    "confirmed = np.array(confirmed)\n",
    "x = x[:, 1]"
   ]
  },
  {
   "cell_type": "code",
   "execution_count": 12,
   "metadata": {},
   "outputs": [],
   "source": [
    "(a_, b_, c_, d_), _ = curve_fit(logistic_function, x, confirmed)"
   ]
  },
  {
   "cell_type": "code",
   "execution_count": 13,
   "metadata": {},
   "outputs": [
    {
     "data": {
      "image/png": "[encoded data removed]",
      "text/plain": [
       "<Figure size 432x288 with 1 Axes>"
      ]
     },
     "metadata": {
      "needs_background": "light"
     },
     "output_type": "display_data"
    }
   ],
   "source": [
    "def plot_logistic_fit(confirmed, logistic_params):\n",
    "    a_, b_, c_, d_ = logistic_params\n",
    "    x = np.arange(0, len(confirmed))\n",
    "    plt.plot(x, confirmed, \".\", label=\"Reported cases\")\n",
    "    confirmed_pred = logistic_function(x, a_, b_, c_, d_)\n",
    "    plt.plot(x, confirmed_pred, label=\"Fitted logistic function\")\n",
    "    plt.legend()\n",
    "    plt.show()\n",
    "    return confirmed_pred\n",
    "confirmed_pred = plot_logistic_fit(confirmed, (a_, b_, c_, d_))"
   ]
  },
  {
   "cell_type": "code",
   "execution_count": 14,
   "metadata": {},
   "outputs": [
    {
     "data": {
      "text/plain": [
       "0.999500185228235"
      ]
     },
     "execution_count": 14,
     "metadata": {},
     "output_type": "execute_result"
    }
   ],
   "source": [
    "r2_score(confirmed, confirmed_pred)"
   ]
  },
  {
   "cell_type": "code",
   "execution_count": 15,
   "metadata": {},
   "outputs": [
    {
     "name": "stdout",
     "output_type": "stream",
     "text": [
      "In 23 days the number of infected people will plateau at 50430\n"
     ]
    }
   ],
   "source": [
    "def plateau(confirmed, logistic_params, diff=10):\n",
    "    a_, b_, c_, d_ = logistic_params \n",
    "    confirmed_now = confirmed[-1]\n",
    "    confirmed_then = confirmed[-2]\n",
    "    days = 0\n",
    "    now = x[-1]\n",
    "    while confirmed_now - confirmed_then > diff:\n",
    "        days += 1\n",
    "        confirmed_then = confirmed_now\n",
    "        confirmed_now = logistic_function(\n",
    "            now + days,\n",
    "            a_,\n",
    "            b_,\n",
    "            c_,\n",
    "            d_,\n",
    "        )\n",
    "    return days, confirmed_now\n",
    "days, confirmed_now = plateau(confirmed, (a_, b_, c_, d_))\n",
    "print(f\"In {days} days the number of infected people will plateau at {int(confirmed_now)}\")"
   ]
  },
  {
   "cell_type": "code",
   "execution_count": 16,
   "metadata": {},
   "outputs": [
    {
     "data": {
      "image/png": "[encoded data removed]",
      "text/plain": [
       "<Figure size 432x288 with 1 Axes>"
      ]
     },
     "metadata": {
      "needs_background": "light"
     },
     "output_type": "display_data"
    }
   ],
   "source": [
    "x_ = np.linspace(0, x[-1] + days)\n",
    "plt.plot(\n",
    "    x_,\n",
    "    logistic_function(x_, a_, b_, c_, d_)\n",
    ")\n",
    "plt.show()"
   ]
  },
  {
   "cell_type": "markdown",
   "metadata": {},
   "source": [
    "## Italy data, logistic fit"
   ]
  },
  {
   "cell_type": "code",
   "execution_count": 25,
   "metadata": {},
   "outputs": [],
   "source": [
    "cases_italy = np.array([\n",
    "    20,\n",
    "    79,\n",
    "    150,\n",
    "    229,\n",
    "    322,\n",
    "    400,\n",
    "    650,\n",
    "    888,\n",
    "    1128,\n",
    "    1694,\n",
    "    2036,\n",
    "    2502,\n",
    "    3089,\n",
    "    3858,\n",
    "    4636,\n",
    "    5883,\n",
    "    7375,\n",
    "    9172,\n",
    "    10149,\n",
    "    12462,\n",
    "    15113,\n",
    "    17660,\n",
    "    21157,\n",
    "    24747,\n",
    "    27980,\n",
    "    31506,\n",
    "    35713,\n",
    "    41035,\n",
    "    47021,\n",
    "    53578,\n",
    "    59138,\n",
    "    63928,\n",
    "])"
   ]
  },
  {
   "cell_type": "code",
   "execution_count": 26,
   "metadata": {},
   "outputs": [],
   "source": [
    "x = np.arange(0, len(cases_italy))\n",
    "params, _ = curve_fit(logistic_function, x, cases_italy)"
   ]
  },
  {
   "cell_type": "code",
   "execution_count": 19,
   "metadata": {},
   "outputs": [
    {
     "data": {
      "image/png": "[encoded data removed]",
      "text/plain": [
       "<Figure size 432x288 with 1 Axes>"
      ]
     },
     "metadata": {
      "needs_background": "light"
     },
     "output_type": "display_data"
    }
   ],
   "source": [
    "italy_pred = plot_logistic_fit(cases_italy, params)"
   ]
  },
  {
   "cell_type": "code",
   "execution_count": 20,
   "metadata": {},
   "outputs": [
    {
     "data": {
      "text/plain": [
       "0.9995632489506111"
      ]
     },
     "execution_count": 20,
     "metadata": {},
     "output_type": "execute_result"
    }
   ],
   "source": [
    "r2_score(cases_italy, italy_pred)"
   ]
  },
  {
   "cell_type": "code",
   "execution_count": 27,
   "metadata": {},
   "outputs": [
    {
     "name": "stdout",
     "output_type": "stream",
     "text": [
      "31 days until growth is lower than 100 per day\n",
      "The total cases will be at 130475\n"
     ]
    }
   ],
   "source": [
    "diff = 100\n",
    "days, cases = plateau(cases_italy, params, diff=diff)\n",
    "print(f\"{days} days until growth is lower than {diff} per day\")\n",
    "print(f\"The total cases will be at {int(cases)}\")"
   ]
  },
  {
   "cell_type": "code",
   "execution_count": 30,
   "metadata": {},
   "outputs": [
    {
     "data": {
      "image/png": "[encoded data removed]",
      "text/plain": [
       "<Figure size 432x288 with 1 Axes>"
      ]
     },
     "metadata": {
      "needs_background": "light"
     },
     "output_type": "display_data"
    }
   ],
   "source": [
    "x = np.linspace(0, len(cases_italy) + 31)\n",
    "y = logistic_function(x, *params)\n",
    "plt.plot([len(cases_italy), len(cases_italy)], [0, 100000])\n",
    "plt.plot(x, y)\n",
    "plt.show()"
   ]
  }
 ],
 "metadata": {
  "@webio": {
   "lastCommId": null,
   "lastKernelId": null
  },
  "kernelspec": {
   "display_name": "Python 3",
   "language": "python",
   "name": "python3"
  },
  "language_info": {
   "codemirror_mode": {
    "name": "ipython",
    "version": 3
   },
   "file_extension": ".py",
   "mimetype": "text/x-python",
   "name": "python",
   "nbconvert_exporter": "python",
   "pygments_lexer": "ipython3",
   "version": "3.7.4"
  }
 },
 "nbformat": 4,
 "nbformat_minor": 4
}
